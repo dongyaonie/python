{
 "cells": [
  {
   "cell_type": "markdown",
   "metadata": {},
   "source": [
    "Task 1 "
   ]
  },
  {
   "cell_type": "code",
   "execution_count": 3,
   "metadata": {},
   "outputs": [],
   "source": [
    "# five container variables with fruits/vegetables\n",
    "bucket = \"pineapples\"\n",
    "box = \"strawberries\"\n",
    "bag = \"orange\"\n",
    "bowl = \"blueberries\"\n",
    "basket = \"avocado\""
   ]
  },
  {
   "cell_type": "code",
   "execution_count": 7,
   "metadata": {},
   "outputs": [
    {
     "name": "stdout",
     "output_type": "stream",
     "text": [
      "The bucket contains pineapples\n",
      "The box contains strawberries\n",
      "The bag contains orange\n",
      "The bowl contains blueberries\n",
      "The basket contains avocado\n"
     ]
    }
   ],
   "source": [
    "print \"The bucket contains \" + bucket\n",
    "print \"The box contains \" + box\n",
    "print \"The bag contains \" + bag\n",
    "print \"The bowl contains \" + bowl\n",
    "print \"The basket contains \" + basket"
   ]
  },
  {
   "cell_type": "markdown",
   "metadata": {},
   "source": [
    "Task 2"
   ]
  },
  {
   "cell_type": "code",
   "execution_count": 28,
   "metadata": {},
   "outputs": [],
   "source": [
    "# Store sentences with multiple quotation marks and print it: Klavan said that producers have \"called my agent asking, 'Why would you represent this guy?' Anything that lowers your odds is going to hurt.\"\n",
    "sentence = \"Klavan said that producers have \\\"called my agent asking, 'Why would you represent this guy?' Anything that lowers your odds is going to hurt.\\\"\""
   ]
  },
  {
   "cell_type": "code",
   "execution_count": 29,
   "metadata": {},
   "outputs": [
    {
     "name": "stdout",
     "output_type": "stream",
     "text": [
      "Klavan said that producers have \"called my agent asking, 'Why would you represent this guy?' Anything that lowers your odds is going to hurt.\"\n"
     ]
    }
   ],
   "source": [
    "print sentence"
   ]
  },
  {
   "cell_type": "markdown",
   "metadata": {},
   "source": [
    "Task 3"
   ]
  },
  {
   "cell_type": "code",
   "execution_count": 32,
   "metadata": {},
   "outputs": [],
   "source": [
    "# a list called \"president\" storing five names (string)\n",
    "presidents = [\"Barack Obama\", \"George W. Bush\", \"Bill Clinton\", \"Richard Nixon\", \"Franklin D. Roosevelt\"]"
   ]
  },
  {
   "cell_type": "code",
   "execution_count": 39,
   "metadata": {},
   "outputs": [
    {
     "name": "stdout",
     "output_type": "stream",
     "text": [
      "Barack Obama\n",
      "George W. Bush\n",
      "Bill Clinton\n",
      "Richard Nixon\n",
      "Franklin D. Roosevelt\n"
     ]
    }
   ],
   "source": [
    "# print the list\n",
    "for president in presidents:\n",
    "    print president"
   ]
  },
  {
   "cell_type": "code",
   "execution_count": 41,
   "metadata": {},
   "outputs": [
    {
     "name": "stdout",
     "output_type": "stream",
     "text": [
      "Bill Clinton\n"
     ]
    }
   ],
   "source": [
    "# print the 3rd in the list\n",
    "print presidents[2]"
   ]
  },
  {
   "cell_type": "markdown",
   "metadata": {},
   "source": [
    "Task 4"
   ]
  },
  {
   "cell_type": "code",
   "execution_count": 4,
   "metadata": {},
   "outputs": [],
   "source": [
    "# a list with five intergers\n",
    "birthyears = [1961,1946,1946,1913,1882]"
   ]
  },
  {
   "cell_type": "code",
   "execution_count": 5,
   "metadata": {},
   "outputs": [
    {
     "name": "stdout",
     "output_type": "stream",
     "text": [
      "1961\n",
      "1946\n",
      "1946\n",
      "1913\n",
      "1882\n"
     ]
    }
   ],
   "source": [
    "for birthyear in birthyears:\n",
    "    print birthyear"
   ]
  },
  {
   "cell_type": "code",
   "execution_count": 6,
   "metadata": {},
   "outputs": [
    {
     "name": "stdout",
     "output_type": "stream",
     "text": [
      "1882\n"
     ]
    }
   ],
   "source": [
    "print birthyears[-1]"
   ]
  },
  {
   "cell_type": "markdown",
   "metadata": {},
   "source": [
    "Task 5"
   ]
  },
  {
   "cell_type": "code",
   "execution_count": 7,
   "metadata": {},
   "outputs": [],
   "source": [
    "# print a dictionary containing president name + birthyears(integer)\n",
    "pData = {\"Barack Obama\":1961,\n",
    "              \"George W. Bush\":1946,\n",
    "              \"Bill Clinton\":1946,\n",
    "              \"Richard Nixon\":1913,\n",
    "              \"Franklin D. Roosevelt\":1882}"
   ]
  },
  {
   "cell_type": "code",
   "execution_count": 8,
   "metadata": {},
   "outputs": [
    {
     "name": "stdout",
     "output_type": "stream",
     "text": [
      "Bill Clinton 1946\n",
      "George W. Bush 1946\n",
      "Franklin D. Roosevelt 1882\n",
      "Barack Obama 1961\n",
      "Richard Nixon 1913\n"
     ]
    }
   ],
   "source": [
    "for name in pData:\n",
    "    print name + \" \" + str(pData[name])"
   ]
  },
  {
   "cell_type": "code",
   "execution_count": null,
   "metadata": {},
   "outputs": [],
   "source": []
  }
 ],
 "metadata": {
  "kernelspec": {
   "display_name": "Python 2",
   "language": "python",
   "name": "python2"
  },
  "language_info": {
   "codemirror_mode": {
    "name": "ipython",
    "version": 2
   },
   "file_extension": ".py",
   "mimetype": "text/x-python",
   "name": "python",
   "nbconvert_exporter": "python",
   "pygments_lexer": "ipython2",
   "version": "2.7.10"
  }
 },
 "nbformat": 4,
 "nbformat_minor": 2
}
